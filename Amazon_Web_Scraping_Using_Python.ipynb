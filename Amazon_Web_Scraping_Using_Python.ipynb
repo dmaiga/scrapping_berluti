{
 "cells": [
  {
   "cell_type": "code",
   "execution_count": 2,
   "id": "2d1d4d57-e9e0-4cd0-a4d7-f36fc8efde4a",
   "metadata": {},
   "outputs": [],
   "source": [
    "import requests\n",
    "from bs4 import BeautifulSoup\n",
    "import csv\n",
    "import pandas as pd\n",
    "import numpy as np\n",
    "import smtplib\n",
    "import time\n",
    "import datetime\n"
   ]
  },
  {
   "cell_type": "code",
   "execution_count": 3,
   "id": "9b8823bd-33c7-46f5-bdea-d806b27513e6",
   "metadata": {},
   "outputs": [
    {
     "name": "stdout",
     "output_type": "stream",
     "text": [
      "1530\n"
     ]
    }
   ],
   "source": [
    "#recuperation \n",
    "url='https://www.berluti.com/fr-fr/sneaker-fast-track-en-cuir/S6231-V1.html?dwvar_S6231-V1_color=ML6&to=0#sz=21&to=0&start=1'   \n",
    "\n",
    "page = requests.get(url)\n",
    "soup1= BeautifulSoup(page.text,\"html\")\n",
    "soup2=BeautifulSoup(soup1.prettify(),\"html.parser\")\n",
    "\n",
    "#titre\n",
    "title = soup2.find('h1',class_='product-title').get_text()\n",
    "title = title.strip()\n",
    "\n",
    "#Prix\n",
    "price=soup2.find('span',class_='price-sales').get_text()\n",
    "#ignorer le 1er caractere\n",
    "price = price.strip()[1:]\n",
    "#du virgule au point\n",
    "price = price.replace(\",\", \"\")\n",
    "print(price)\n",
    "\n"
   ]
  },
  {
   "cell_type": "code",
   "execution_count": 4,
   "id": "e5e295a9-75bc-4cb0-b0b5-0df15c0d14ed",
   "metadata": {},
   "outputs": [
    {
     "name": "stdout",
     "output_type": "stream",
     "text": [
      "2024-05-01\n"
     ]
    }
   ],
   "source": [
    "#import datatime\n",
    "today=datetime.date.today()\n",
    "print(today)"
   ]
  },
  {
   "cell_type": "code",
   "execution_count": 6,
   "id": "126e3911-acb6-40d0-a4d4-6e66392aca29",
   "metadata": {},
   "outputs": [],
   "source": [
    "#import csv\n",
    "#creation de mon fichier et importation des data vers mon fichier\n",
    "header=['Title','Price','Date']\n",
    "data=[title,price,today]\n",
    "with open('Berluti_WebScraper_Dataset.csv', 'w',newline='', encoding='UTF-8') as f:   \n",
    "    writer = csv.writer(f)\n",
    "    writer.writerow(header)\n",
    "    writer.writerow(data)"
   ]
  },
  {
   "cell_type": "code",
   "execution_count": 13,
   "id": "0fd9416c-1848-4683-8b09-3bc5800f0efd",
   "metadata": {},
   "outputs": [
    {
     "name": "stdout",
     "output_type": "stream",
     "text": [
      "                        Title  Price        Date\n",
      "0  Sneaker Fast Track En Cuir   1530  2024-05-01\n",
      "1  Sneaker Fast Track En Cuir   1530  2024-05-01\n",
      "2  Sneaker Fast Track En Cuir   1530  2024-05-01\n",
      "3  Sneaker Fast Track En Cuir   1530  2024-05-01\n",
      "4  Sneaker Fast Track En Cuir   1530  2024-05-01\n"
     ]
    }
   ],
   "source": [
    "#import pandas \n",
    "df=pd.read_csv('Berluti_WebScraper_Dataset.csv')\n",
    "print(df)"
   ]
  },
  {
   "cell_type": "code",
   "execution_count": 12,
   "id": "a0e947b1-12e0-418d-bd4c-cc161e5dba46",
   "metadata": {},
   "outputs": [],
   "source": [
    "with open('Berluti_WebScraper_Dataset.csv', 'a+',newline='', encoding='UTF-8') as f:   \n",
    "        writer = csv.writer(f)\n",
    "        writer.writerow(data)\n",
    "    "
   ]
  },
  {
   "cell_type": "code",
   "execution_count": 14,
   "id": "8f104369-8c17-4e9a-866d-711ec97c4a1c",
   "metadata": {},
   "outputs": [],
   "source": [
    "def check_price():\n",
    "    import requests\n",
    "    from bs4 import BeautifulSoup\n",
    "    url='https://www.berluti.com/fr-fr/sneaker-fast-track-en-cuir/S6231-V1.html?dwvar_S6231-V1_color=ML6&to=0#sz=21&to=0&start=1'   \n",
    "\n",
    "    page = requests.get(url)\n",
    "    soup1= BeautifulSoup(page.text,\"html\")\n",
    "    soup2=BeautifulSoup(soup1.prettify(),\"html.parser\")\n",
    "\n",
    "    #titre\n",
    "    title = soup2.find('h1',class_='product-title').get_text()\n",
    "    title = title.strip()\n",
    "\n",
    "    #Prix\n",
    "    price=soup2.find('span',class_='price-sales').get_text()\n",
    "    #ignorer le 1er caractere\n",
    "    price = price.strip()[1:]\n",
    "    #du virgule au point\n",
    "    price = price.replace(\",\", \"\")\n",
    "\n",
    "    import datetime\n",
    "    today=datetime.date.today()\n",
    "    import csv \n",
    "    header=['Title','Price','Date']\n",
    "    data=[title,price,today]\n",
    "    with open('Berluti_WebScraper_Dataset.csv', 'a+',newline='', encoding='UTF-8') as f:   \n",
    "        writer = csv.writer(f)\n",
    "        writer.writerow(data)\n",
    "    \n",
    "    \n",
    "    \n",
    "    \n",
    "    "
   ]
  },
  {
   "cell_type": "code",
   "execution_count": 1,
   "id": "2efcebf8-fa7a-4509-95ab-c54dd53a99dd",
   "metadata": {},
   "outputs": [],
   "source": [
    "# Envois d'un email quand le prix est inferieur a 1000\n",
    "\n",
    "\n",
    "def send_mail():\n",
    "    server = smtplib.SMTP_SSL('smtp.gmail.com',465)\n",
    "    server.ehlo()\n",
    "    #server.starttls()\n",
    "    server.ehlo()\n",
    "    server.login('mdmaiga01@gmail.com','mot_de_passe')\n",
    "    \n",
    "    subject = \"La chausure est maintenant en dessous de 1000 euros!\"\n",
    "    body = \"Now, c'est le moment .  lien = https://www.berluti.com/fr-fr/sneaker-fast-track-en-cuir/S6231-V1.html?dwvar_S6231-V1_color=ML6&to=0#sz=21&to=0&start=1\" \n",
    "   \n",
    "    msg = f\"Subject: {subject}\\n\\n{body}\"\n",
    "    \n",
    "    server.sendmail(\n",
    "        'mdmaiga01@gmail.com',\n",
    "        msg\n",
    "     \n",
    "    )"
   ]
  },
  {
   "cell_type": "code",
   "execution_count": 3,
   "id": "67395e1e-9bca-4221-a19a-6f2979b05b94",
   "metadata": {},
   "outputs": [
    {
     "name": "stdout",
     "output_type": "stream",
     "text": [
      "                        Title  Price        Date\n",
      "0  Sneaker Fast Track En Cuir   1530  2024-05-01\n",
      "1  Sneaker Fast Track En Cuir   1530  2024-05-01\n",
      "2  Sneaker Fast Track En Cuir   1530  2024-05-01\n",
      "3  Sneaker Fast Track En Cuir   1530  2024-05-01\n",
      "4  Sneaker Fast Track En Cuir   1530  2024-05-01\n",
      "5  Sneaker Fast Track En Cuir   1530  2024-05-01\n"
     ]
    }
   ],
   "source": [
    "import pandas as pd\n",
    "df=pd.read_csv('Berluti_WebScraper_Dataset.csv')\n",
    "print(df)\n",
    "\n"
   ]
  },
  {
   "cell_type": "code",
   "execution_count": null,
   "id": "6f358d48-8a7c-441f-8726-7954448ec9e7",
   "metadata": {},
   "outputs": [],
   "source": []
  }
 ],
 "metadata": {
  "kernelspec": {
   "display_name": "Python 3 (ipykernel)",
   "language": "python",
   "name": "python3"
  },
  "language_info": {
   "codemirror_mode": {
    "name": "ipython",
    "version": 3
   },
   "file_extension": ".py",
   "mimetype": "text/x-python",
   "name": "python",
   "nbconvert_exporter": "python",
   "pygments_lexer": "ipython3",
   "version": "3.11.7"
  }
 },
 "nbformat": 4,
 "nbformat_minor": 5
}
